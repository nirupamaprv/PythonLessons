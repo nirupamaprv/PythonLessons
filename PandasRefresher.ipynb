{
 "cells": [
  {
   "cell_type": "markdown",
   "metadata": {},
   "source": [
    "# Pandas DataFrame UltraQuick Tutorial \n",
    "Practice work from additional resources section of Google ML course\n",
    "Contains extra steps, pointers from related Pandas documentation\n",
    "Link to original Cola notebook at:\n",
    "https://colab.research.google.com/github/google/eng-edu/blob/master/ml/cc/exercises/pandas_dataframe_ultraquick_tutorial.ipynb?utm_source=mlcc&utm_campaign=colab-external&utm_medium=referral&utm_content=pandas_tf2-colab&hl=en#scrollTo=YDu2VotPgzsW"
   ]
  },
  {
   "cell_type": "markdown",
   "metadata": {},
   "source": [
    "This notebook introduces DataFrames, which are the central data structure in the pandas API. This is not a comprehensive DataFrames tutorial. Rather, it provides a very quick introduction to the parts of DataFrames required to do the other exercises in Machine Learning Crash Course from Google Education.\n",
    "\n",
    "A DataFrame is similar to an in-memory spreadsheet. Like a spreadsheet:\n",
    "\n",
    "A DataFrame stores data in cells.\n",
    "A DataFrame has named columns (usually) and numbered rows."
   ]
  },
  {
   "cell_type": "markdown",
   "metadata": {},
   "source": [
    "# Import NumPy and pandas modules\n",
    "Run the following code cell to import the NumPy and pandas modules."
   ]
  },
  {
   "cell_type": "code",
   "execution_count": 1,
   "metadata": {
    "collapsed": true
   },
   "outputs": [],
   "source": [
    "import numpy as np\n",
    "import pandas as pd"
   ]
  },
  {
   "cell_type": "markdown",
   "metadata": {},
   "source": [
    "# Creating a DataFrame\n",
    "The following code cell creates a simple DataFrame containing 10 cells organized as follows:\n",
    "\n",
    "5 rows\n",
    "2 columns, one named temperature and the other named activity\n",
    "The following code cell instantiates a pd.DataFrame class to generate a DataFrame. The class takes two arguments:\n",
    "\n",
    "The first argument provides the data to populate the 10 cells. The code cell calls np.array to generate the 5x2 NumPy array.\n",
    "The second argument identifies the names of the two columns."
   ]
  },
  {
   "cell_type": "code",
   "execution_count": 13,
   "metadata": {},
   "outputs": [
    {
     "name": "stdout",
     "output_type": "stream",
     "text": [
      "   temperature  activity\n",
      "0            0         3\n",
      "1           10         7\n",
      "2           20         9\n",
      "3           30        14\n",
      "4           40        15\n",
      "5           55        17\n"
     ]
    }
   ],
   "source": [
    "# Create and populate a 5x2 NumPy array.\n",
    "my_data = np.array([[0, 3], [10, 7], [20, 9], [30, 14], [40, 15],[55, 17]])\n",
    "\n",
    "# Create a Python list that holds the names of the two columns.\n",
    "my_column_names = ['temperature', 'activity']\n",
    "\n",
    "# Create a DataFrame.\n",
    "my_dataframe = pd.DataFrame(data=my_data, columns=my_column_names)\n",
    "\n",
    "# Print the entire DataFrame\n",
    "print(my_dataframe)"
   ]
  },
  {
   "cell_type": "markdown",
   "metadata": {},
   "source": [
    "# Adding a new column to a DataFrame\n",
    "You may add a new column to an existing pandas DataFrame just by assigning values to a new column name. For example, the following code creates a third column named adjusted in my_dataframe:"
   ]
  },
  {
   "cell_type": "code",
   "execution_count": 14,
   "metadata": {},
   "outputs": [
    {
     "name": "stdout",
     "output_type": "stream",
     "text": [
      "   temperature  activity  adjusted\n",
      "0            0         3         5\n",
      "1           10         7         9\n",
      "2           20         9        11\n",
      "3           30        14        16\n",
      "4           40        15        17\n",
      "5           55        17        19\n"
     ]
    }
   ],
   "source": [
    "# Create a new column named adjusted.\n",
    "my_dataframe[\"adjusted\"] = my_dataframe[\"activity\"] + 2\n",
    "\n",
    "# Print the entire DataFrame\n",
    "print(my_dataframe)"
   ]
  },
  {
   "cell_type": "markdown",
   "metadata": {},
   "source": [
    "# Specifying a subset of a DataFrame\n",
    "Pandas provide multiples ways to isolate specific rows, columns, slices or cells in a DataFrame."
   ]
  },
  {
   "cell_type": "code",
   "execution_count": 15,
   "metadata": {},
   "outputs": [
    {
     "name": "stdout",
     "output_type": "stream",
     "text": [
      "Rows #0, #1, and #2:\n",
      "   temperature  activity  adjusted\n",
      "0            0         3         5\n",
      "1           10         7         9\n",
      "2           20         9        11 \n",
      " ------------ \n",
      "\n",
      "Row #1:\n",
      "   temperature  activity  adjusted\n",
      "1           10         7         9 \n",
      " ------------ \n",
      " \n",
      "\n",
      "Rows #2, #3, #4 and #5:\n",
      "   temperature  activity  adjusted\n",
      "2           20         9        11\n",
      "3           30        14        16\n",
      "4           40        15        17\n",
      "5           55        17        19 \n",
      " ------------ \n",
      "\n",
      "Column 'temperature':\n",
      "0     0\n",
      "1    10\n",
      "2    20\n",
      "3    30\n",
      "4    40\n",
      "5    55\n",
      "Name: temperature, dtype: int64\n"
     ]
    }
   ],
   "source": [
    "print(\"Rows #0, #1, and #2:\")\n",
    "print(my_dataframe.head(3),'\\n', \"------------\",'\\n')\n",
    "\n",
    "print(\"Row #1:\")\n",
    "print(my_dataframe.iloc[[1]], '\\n', \"------------\",'\\n','\\n')\n",
    "\n",
    "print(\"Rows #2, #3, #4 and #5:\")\n",
    "print(my_dataframe[2:6], '\\n', \"------------\",'\\n')\n",
    "\n",
    "print(\"Column 'temperature':\")\n",
    "print(my_dataframe['temperature'])"
   ]
  },
  {
   "cell_type": "markdown",
   "metadata": {},
   "source": [
    "# Task 1: Create a DataFrame\n",
    "Do the following:\n",
    "\n",
    "Create an 3x4 (3 rows x 4 columns) pandas DataFrame in which the columns are named Eleanor, Chidi, Tahani, and Jason. Populate each of the 12 cells in the DataFrame with a random integer between 0 and 100, inclusive.\n",
    "\n",
    "Output the following:\n",
    "\n",
    "the entire DataFrame\n",
    "the value in the cell of row #1 of the Eleanor column\n",
    "Create a fifth column named Janet, which is populated with the row-by-row sums of Tahani and Jason.\n",
    "\n",
    "To complete this task, it helps to know the NumPy basics covered in the NumPy UltraQuick Tutorial."
   ]
  },
  {
   "cell_type": "code",
   "execution_count": 17,
   "metadata": {},
   "outputs": [
    {
     "name": "stdout",
     "output_type": "stream",
     "text": [
      "   Eleanor  Chidi  Tahani  Jason\n",
      "0        0      3      10      7\n",
      "1       20      9      30     14\n",
      "2       40     15      55     17 \n",
      " \n",
      "\n",
      "1    20\n",
      "Name: Eleanor, dtype: int64\n",
      "\n",
      "\n",
      "   Eleanor  Chidi  Tahani  Jason  Janet\n",
      "0        0      3      10      7     17\n",
      "1       20      9      30     14     44\n",
      "2       40     15      55     17     72\n"
     ]
    }
   ],
   "source": [
    "# Create and populate a 5x2 NumPy array.\n",
    "mat = np.array([[0, 3, 10, 7], [20, 9, 30, 14], [40, 15, 55, 17]])\n",
    "\n",
    "# Create a Python list that holds the names of the two columns.\n",
    "cols = ['Eleanor', 'Chidi','Tahani','Jason']\n",
    "\n",
    "# Create a DataFrame.\n",
    "df = pd.DataFrame(data=mat, columns=cols)\n",
    "\n",
    "# Print the entire DataFrame\n",
    "print(df,'\\n','\\n')\n",
    "print(df['Eleanor'].iloc[[1]])\n",
    "df['Janet']=df['Tahani']+df['Jason']\n",
    "print('\\n')\n",
    "print(df)"
   ]
  },
  {
   "cell_type": "markdown",
   "metadata": {},
   "source": [
    "# Copying a DataFrame (optional)\n",
    "Pandas provides two different ways to duplicate a DataFrame:\n",
    "\n",
    "Referencing. If you assign a DataFrame to a new variable, any change to the DataFrame or to the new variable will be reflected in the other.\n",
    "Copying. If you call the pd.DataFrame.copy method, you create a true independent copy. Changes to the original DataFrame or to the copy will not be reflected in the other.\n",
    "The difference is subtle, but important."
   ]
  },
  {
   "cell_type": "code",
   "execution_count": 18,
   "metadata": {},
   "outputs": [
    {
     "name": "stdout",
     "output_type": "stream",
     "text": [
      "Experiment with a reference:\n",
      "  Starting value of df: 14\n",
      "  Starting value of reference_to_df: 14\n",
      "\n",
      "  Updated df: 19\n",
      "  Updated reference_to_df: 19\n",
      "\n",
      "\n",
      "Experiment with a true copy:\n",
      "  Starting value of my_dataframe: 7\n",
      "  Starting value of copy_of_my_dataframe: 7\n",
      "\n",
      "  Updated my_dataframe: 10\n",
      "  copy_of_my_dataframe does not get updated: 7\n"
     ]
    }
   ],
   "source": [
    "# Create a reference by assigning my_dataframe to a new variable.\n",
    "print(\"Experiment with a reference:\")\n",
    "reference_to_df = df\n",
    "\n",
    "# Print the starting value of a particular cell.\n",
    "print(\"  Starting value of df: %d\" % df['Jason'][1])\n",
    "print(\"  Starting value of reference_to_df: %d\\n\" % reference_to_df['Jason'][1])\n",
    "\n",
    "# Modify a cell in df.\n",
    "df.at[1, 'Jason'] = df['Jason'][1] + 5\n",
    "print(\"  Updated df: %d\" % df['Jason'][1])\n",
    "print(\"  Updated reference_to_df: %d\\n\\n\" % reference_to_df['Jason'][1])\n",
    "\n",
    "# Create a true copy of my_dataframe\n",
    "print(\"Experiment with a true copy:\")\n",
    "copy_of_my_dataframe = my_dataframe.copy()\n",
    "\n",
    "# Print the starting value of a particular cell.\n",
    "print(\"  Starting value of my_dataframe: %d\" % my_dataframe['activity'][1])\n",
    "print(\"  Starting value of copy_of_my_dataframe: %d\\n\" % copy_of_my_dataframe['activity'][1])\n",
    "\n",
    "# Modify a cell in df.\n",
    "my_dataframe.at[1, 'activity'] = my_dataframe['activity'][1] + 3\n",
    "print(\"  Updated my_dataframe: %d\" % my_dataframe['activity'][1])\n",
    "print(\"  copy_of_my_dataframe does not get updated: %d\" % copy_of_my_dataframe['activity'][1])"
   ]
  },
  {
   "cell_type": "markdown",
   "metadata": {},
   "source": [
    "# Experimenting with previous self created dataframe for practice"
   ]
  },
  {
   "cell_type": "code",
   "execution_count": 21,
   "metadata": {},
   "outputs": [
    {
     "name": "stdout",
     "output_type": "stream",
     "text": [
      "Original dataframe: \n",
      "    Eleanor  Chidi  Tahani  Jason  Janet\n",
      "0        0      3      10      7     17\n",
      "1       20      9      30     19     44\n",
      "2       40     15      55     17     72 \n",
      "\n",
      "Dataframe Copy by Reference: \n",
      "    Eleanor  Chidi  Tahani  Jason  Janet\n",
      "0        0      3      10      7     17\n",
      "1       20      9      30     19     44\n",
      "2       40     15      55     17     72 \n",
      "\n",
      "Dataframe Copy by copy() Method: \n",
      "    Eleanor  Chidi  Tahani  Jason  Janet\n",
      "0        0      3      10      7     17\n",
      "1       20      9      30     19     44\n",
      "2       40     15      55     17     72 \n",
      "\n"
     ]
    }
   ],
   "source": [
    "df_copy_by_ref = df\n",
    "#Actual copy\n",
    "df_copy = df.copy()\n",
    "print(\"Original dataframe:\", '\\n', df, '\\n')\n",
    "print(\"Dataframe Copy by Reference:\", '\\n', df_copy_by_ref, '\\n')\n",
    "print(\"Dataframe Copy by copy() Method:\", '\\n', df_copy, '\\n')"
   ]
  },
  {
   "cell_type": "code",
   "execution_count": 23,
   "metadata": {},
   "outputs": [
    {
     "name": "stdout",
     "output_type": "stream",
     "text": [
      "Original dataframe: \n",
      "    Eleanor  Chidi  Tahani  Jason  Janet   Sam\n",
      "0        0      3      10      7     17     0\n",
      "1       20      9      30     19     44   200\n",
      "2       40     15      55     17     72  1200 \n",
      "\n",
      "Dataframe Copy by Reference: \n",
      "    Eleanor  Chidi  Tahani  Jason  Janet   Sam\n",
      "0        0      3      10      7     17     0\n",
      "1       20      9      30     19     44   200\n",
      "2       40     15      55     17     72  1200 \n",
      "\n",
      "Dataframe Copy by copy() Method: \n",
      "    Eleanor  Chidi  Tahani  Jason  Janet\n",
      "0        0      3      10      7     17\n",
      "1       20      9      30     19     44\n",
      "2       40     15      55     17     72 \n",
      "\n"
     ]
    }
   ],
   "source": [
    "#add a column to original dataframe\n",
    "df['Sam']=df['Eleanor']*(df['Eleanor']-10)\n",
    "print(\"Original dataframe:\", '\\n', df, '\\n')\n",
    "print(\"Dataframe Copy by Reference:\", '\\n', df_copy_by_ref, '\\n')\n",
    "print(\"Dataframe Copy by copy() Method:\", '\\n', df_copy, '\\n')"
   ]
  },
  {
   "cell_type": "code",
   "execution_count": null,
   "metadata": {
    "collapsed": true
   },
   "outputs": [],
   "source": []
  }
 ],
 "metadata": {
  "kernelspec": {
   "display_name": "Python 3",
   "language": "python",
   "name": "python3"
  },
  "language_info": {
   "codemirror_mode": {
    "name": "ipython",
    "version": 3
   },
   "file_extension": ".py",
   "mimetype": "text/x-python",
   "name": "python",
   "nbconvert_exporter": "python",
   "pygments_lexer": "ipython3",
   "version": "3.6.8"
  }
 },
 "nbformat": 4,
 "nbformat_minor": 2
}
