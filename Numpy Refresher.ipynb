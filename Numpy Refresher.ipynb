{
 "cells": [
  {
   "cell_type": "markdown",
   "metadata": {},
   "source": [
    "Excercise from Google ML Crash Course Resources\n",
    "NumPy UltraQuick Tutorial\n",
    "NumPy is a Python library for creating and manipulating vectors and matrices. "
   ]
  },
  {
   "cell_type": "markdown",
   "metadata": {},
   "source": []
  },
  {
   "cell_type": "code",
   "execution_count": 2,
   "metadata": {
    "collapsed": true
   },
   "outputs": [],
   "source": [
    "#Import NumPy module\n",
    "#Run the following code cell to import the NumPy module:\n",
    "import numpy as np"
   ]
  },
  {
   "cell_type": "code",
   "execution_count": 3,
   "metadata": {
    "collapsed": true
   },
   "outputs": [],
   "source": [
    "#Populate arrays with specific numbers\n",
    "#Call np.array to create a NumPy matrix with your own hand-picked values. \n",
    "# For example, the following call to np.array creates an 8-element vector:\n",
    "one_dimensional_array = np.array([1.2, 2.4, 3.5, 4.7, 6.1, 7.2, 8.3, 9.5])"
   ]
  },
  {
   "cell_type": "code",
   "execution_count": 4,
   "metadata": {},
   "outputs": [
    {
     "name": "stdout",
     "output_type": "stream",
     "text": [
      "[ 1.2  2.4  3.5  4.7  6.1  7.2  8.3  9.5]\n"
     ]
    }
   ],
   "source": [
    "print(one_dimensional_array)"
   ]
  },
  {
   "cell_type": "code",
   "execution_count": 6,
   "metadata": {},
   "outputs": [],
   "source": [
    "# You can also use np.array to create a two-dimensional matrix. \n",
    "#To create a two-dimensional matrix, specify an extra layer of square brackets. \n",
    "#For example, the following call creates a 3x2 matrix:\n",
    "two_dimensional_array = np.array([[6,5],[11,7],[4,8]])"
   ]
  },
  {
   "cell_type": "code",
   "execution_count": 7,
   "metadata": {},
   "outputs": [
    {
     "name": "stdout",
     "output_type": "stream",
     "text": [
      "[[ 6  5]\n",
      " [11  7]\n",
      " [ 4  8]]\n"
     ]
    }
   ],
   "source": [
    "print(two_dimensional_array)"
   ]
  },
  {
   "cell_type": "code",
   "execution_count": 8,
   "metadata": {},
   "outputs": [
    {
     "name": "stdout",
     "output_type": "stream",
     "text": [
      "[0 0]\n"
     ]
    }
   ],
   "source": [
    "#To populate a matrix with all zeroes, call np.zeros. To populate a matrix with all ones, call np.ones.\n",
    "b = np.zeros(2, dtype = int) \n",
    "print(b)"
   ]
  },
  {
   "cell_type": "code",
   "execution_count": 10,
   "metadata": {},
   "outputs": [
    {
     "name": "stdout",
     "output_type": "stream",
     "text": [
      "[[0 0]\n",
      " [0 0]]\n"
     ]
    }
   ],
   "source": [
    "ab = np.zeros([2,2], dtype = int) \n",
    "print(ab)"
   ]
  },
  {
   "cell_type": "code",
   "execution_count": 12,
   "metadata": {},
   "outputs": [
    {
     "name": "stdout",
     "output_type": "stream",
     "text": [
      "[[ 0.  0.]\n",
      " [ 0.  0.]\n",
      " [ 0.  0.]]\n"
     ]
    }
   ],
   "source": [
    "abc = np.zeros([3,2], dtype = float) \n",
    "print(abc)"
   ]
  },
  {
   "cell_type": "code",
   "execution_count": 13,
   "metadata": {},
   "outputs": [
    {
     "name": "stdout",
     "output_type": "stream",
     "text": [
      "[ 1.  1.  1.]\n"
     ]
    }
   ],
   "source": [
    "a1 = np.ones(3)\n",
    "print(a1)"
   ]
  },
  {
   "cell_type": "code",
   "execution_count": 14,
   "metadata": {},
   "outputs": [
    {
     "name": "stdout",
     "output_type": "stream",
     "text": [
      "[[1 1 1]\n",
      " [1 1 1]]\n"
     ]
    }
   ],
   "source": [
    "b1 = np.ones([2,3], dtype=int)\n",
    "print(b1)"
   ]
  },
  {
   "cell_type": "code",
   "execution_count": 16,
   "metadata": {},
   "outputs": [
    {
     "name": "stdout",
     "output_type": "stream",
     "text": [
      "[ 5  6  7  8  9 10 11]\n"
     ]
    }
   ],
   "source": [
    "#Populate arrays with sequences of numbers\n",
    "#You can populate an array with a sequence of numbers:\n",
    "seq = np.arange(5,12)\n",
    "print(seq)"
   ]
  },
  {
   "cell_type": "code",
   "execution_count": 17,
   "metadata": {
    "collapsed": true
   },
   "outputs": [],
   "source": [
    "seq2 = np.arange(2.5, 5.5)"
   ]
  },
  {
   "cell_type": "code",
   "execution_count": 18,
   "metadata": {},
   "outputs": [
    {
     "name": "stdout",
     "output_type": "stream",
     "text": [
      "[ 2.5  3.5  4.5]\n"
     ]
    }
   ],
   "source": [
    "print(seq2)"
   ]
  },
  {
   "cell_type": "code",
   "execution_count": 19,
   "metadata": {},
   "outputs": [
    {
     "name": "stdout",
     "output_type": "stream",
     "text": [
      "[ 2.5  3.   3.5  4.   4.5  5. ]\n"
     ]
    }
   ],
   "source": [
    "seq3 = np.arange(2.5, 5.5, step=0.5)\n",
    "print(seq3)"
   ]
  },
  {
   "cell_type": "markdown",
   "metadata": {},
   "source": [
    "Notes: Notice that np.arange generates a sequence that includes the lower bound but not the upper bound.\n",
    "Use parameter step to indicate step size"
   ]
  },
  {
   "cell_type": "markdown",
   "metadata": {},
   "source": [
    "### Populate arrays with random numbers\n",
    "NumPy provides various functions to populate matrices with random numbers across certain ranges. For example, np.random.randint generates random integers between a low and high value. The following call populates a 6-element vector with random integers between 50 and 100."
   ]
  },
  {
   "cell_type": "code",
   "execution_count": 21,
   "metadata": {},
   "outputs": [
    {
     "name": "stdout",
     "output_type": "stream",
     "text": [
      "[64 82 51 87 91 93]\n"
     ]
    }
   ],
   "source": [
    "random = np.random.randint(low=50, high=101, size=(6))\n",
    "print(random)"
   ]
  },
  {
   "cell_type": "markdown",
   "metadata": {},
   "source": [
    "Note that the highest generated integer np.random.randint is one less than the high argument.\n",
    "\n",
    "To create random floating-point values between 0.0 and 1.0, call np.random.random. For example:"
   ]
  },
  {
   "cell_type": "code",
   "execution_count": 23,
   "metadata": {},
   "outputs": [
    {
     "name": "stdout",
     "output_type": "stream",
     "text": [
      "[ 0.7209918   0.76459784  0.04408326  0.6146125   0.65192509]\n"
     ]
    }
   ],
   "source": [
    "rand_float = np.random.random([5])\n",
    "print(rand_float)"
   ]
  },
  {
   "cell_type": "code",
   "execution_count": 26,
   "metadata": {},
   "outputs": [
    {
     "name": "stdout",
     "output_type": "stream",
     "text": [
      "[ 0.10875254  0.88872531  0.30423494  0.30687952  0.94011674]\n"
     ]
    }
   ],
   "source": [
    "rand_float2 = np.random.random(5)\n",
    "print(rand_float2)"
   ]
  },
  {
   "cell_type": "code",
   "execution_count": 27,
   "metadata": {},
   "outputs": [
    {
     "name": "stdout",
     "output_type": "stream",
     "text": [
      "[[ 0.36264278  0.0257687   0.370468    0.16471863  0.01286817]\n",
      " [ 0.64075921  0.91126185  0.56410659  0.82419996  0.98214451]]\n"
     ]
    }
   ],
   "source": [
    "rand_float3 = np.random.random([2,5])\n",
    "print(rand_float3)"
   ]
  },
  {
   "cell_type": "markdown",
   "metadata": {},
   "source": [
    "Note: random.random returns random floats in the half-open interval [0.0, 1.0).\n",
    "Use random_sample  when specifying interval "
   ]
  },
  {
   "cell_type": "code",
   "execution_count": 35,
   "metadata": {},
   "outputs": [
    {
     "name": "stdout",
     "output_type": "stream",
     "text": [
      "[[-4.16275831 -4.56657962]\n",
      " [-4.74168957 -4.29955775]\n",
      " [-4.63926168 -4.6505386 ]]\n"
     ]
    }
   ],
   "source": [
    "rand_float4 = np.random.random_sample((3, 2)) - 5\n",
    "print(rand_float4)"
   ]
  },
  {
   "cell_type": "code",
   "execution_count": 36,
   "metadata": {},
   "outputs": [
    {
     "name": "stdout",
     "output_type": "stream",
     "text": [
      "[[-1.69424223 -1.16835925 -1.41747343 -1.64703408]\n",
      " [-1.42145504 -1.96301308 -1.45404344 -1.0596026 ]\n",
      " [-1.46210993 -1.48860033 -1.08025073 -1.55203998]\n",
      " [-1.96780224 -1.63906926 -1.39378321 -1.79502054]]\n"
     ]
    }
   ],
   "source": [
    "rand_float5 = np.random.random_sample((4,4)) - 2\n",
    "print(rand_float5)"
   ]
  },
  {
   "cell_type": "markdown",
   "metadata": {},
   "source": [
    "Mathematical Operations on NumPy Operands\n",
    "If you want to add or subtract two vectors or matrices, linear algebra requires that the two operands have the same dimensions. Furthermore, if you want to multiply two vectors or matrices, linear algebra imposes strict rules on the dimensional compatibility of operands. Fortunately, NumPy uses a trick called broadcasting to virtually expand the smaller operand to dimensions compatible for linear algebra. For example, the following operation uses broadcasting to add 2.0 to the value of every item in the vector created in the previous code cell:"
   ]
  },
  {
   "cell_type": "code",
   "execution_count": 38,
   "metadata": {},
   "outputs": [
    {
     "name": "stdout",
     "output_type": "stream",
     "text": [
      "[[ 1.36264278  1.0257687   1.370468    1.16471863  1.01286817]\n",
      " [ 1.64075921  1.91126185  1.56410659  1.82419996  1.98214451]]\n"
     ]
    }
   ],
   "source": [
    "print(rand_float3 + 1)"
   ]
  },
  {
   "cell_type": "code",
   "execution_count": 40,
   "metadata": {},
   "outputs": [
    {
     "name": "stdout",
     "output_type": "stream",
     "text": [
      "[25 30 35 40 45 50 55]\n"
     ]
    }
   ],
   "source": [
    "print(seq*5)"
   ]
  },
  {
   "cell_type": "markdown",
   "metadata": {},
   "source": [
    "Task 1: Create a Linear Dataset\n",
    "Your goal is to create a simple dataset consisting of a single feature and a label as follows:\n",
    "\n",
    "Assign a sequence of integers from 6 to 20 (inclusive) to a NumPy array named feature.\n",
    "Assign 15 values to a NumPy array named label such that:"
   ]
  },
  {
   "cell_type": "code",
   "execution_count": 41,
   "metadata": {},
   "outputs": [
    {
     "name": "stdout",
     "output_type": "stream",
     "text": [
      "[ 6  7  8  9 10 11 12 13 14 15 16 17 18 19 20]\n"
     ]
    }
   ],
   "source": [
    "feature = np.arange(6, 21)\n",
    "print(feature)"
   ]
  },
  {
   "cell_type": "code",
   "execution_count": 42,
   "metadata": {
    "collapsed": true
   },
   "outputs": [],
   "source": [
    "label = 3*feature +4"
   ]
  },
  {
   "cell_type": "code",
   "execution_count": 43,
   "metadata": {},
   "outputs": [
    {
     "name": "stdout",
     "output_type": "stream",
     "text": [
      "[22 25 28 31 34 37 40 43 46 49 52 55 58 61 64]\n"
     ]
    }
   ],
   "source": [
    "print(label)"
   ]
  },
  {
   "cell_type": "markdown",
   "metadata": {},
   "source": [
    "Task 2: Add Some Noise to the Dataset\n",
    "To make your dataset a little more realistic, insert a little random noise into each element of the label array you already created. To be more precise, modify each value assigned to label by adding a different random floating-point value between -2 and +2.\n",
    "\n",
    "Don't rely on broadcasting. Instead, create a noise array having the same dimension as label."
   ]
  },
  {
   "cell_type": "code",
   "execution_count": 52,
   "metadata": {},
   "outputs": [],
   "source": [
    "noise = np.random.random_sample((15))  -2"
   ]
  },
  {
   "cell_type": "code",
   "execution_count": 53,
   "metadata": {},
   "outputs": [
    {
     "name": "stdout",
     "output_type": "stream",
     "text": [
      "[-1.35594862 -1.0083958  -1.63562764 -1.39499318 -1.40355116 -1.90365074\n",
      " -1.75559233 -1.49004534 -1.3823354  -1.54146804 -1.93962214 -1.08147879\n",
      " -1.87364057 -1.77720651 -1.18104065]\n"
     ]
    }
   ],
   "source": [
    "print(noise)"
   ]
  },
  {
   "cell_type": "code",
   "execution_count": 54,
   "metadata": {},
   "outputs": [
    {
     "name": "stdout",
     "output_type": "stream",
     "text": [
      "[ 20.64405138  23.9916042   26.36437236  29.60500682  32.59644884\n",
      "  35.09634926  38.24440767  41.50995466  44.6176646   47.45853196\n",
      "  50.06037786  53.91852121  56.12635943  59.22279349  62.81895935]\n"
     ]
    }
   ],
   "source": [
    "print(label + noise)"
   ]
  },
  {
   "cell_type": "code",
   "execution_count": null,
   "metadata": {
    "collapsed": true
   },
   "outputs": [],
   "source": []
  }
 ],
 "metadata": {
  "kernelspec": {
   "display_name": "Python 3",
   "language": "python",
   "name": "python3"
  },
  "language_info": {
   "codemirror_mode": {
    "name": "ipython",
    "version": 3
   },
   "file_extension": ".py",
   "mimetype": "text/x-python",
   "name": "python",
   "nbconvert_exporter": "python",
   "pygments_lexer": "ipython3",
   "version": "3.6.8"
  }
 },
 "nbformat": 4,
 "nbformat_minor": 2
}
